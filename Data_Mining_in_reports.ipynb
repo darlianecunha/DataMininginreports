{
  "nbformat": 4,
  "nbformat_minor": 0,
  "metadata": {
    "colab": {
      "provenance": [],
      "include_colab_link": true
    },
    "kernelspec": {
      "name": "python3",
      "display_name": "Python 3"
    },
    "language_info": {
      "name": "python"
    }
  },
  "cells": [
    {
      "cell_type": "markdown",
      "metadata": {
        "id": "view-in-github",
        "colab_type": "text"
      },
      "source": [
        "<a href=\"https://colab.research.google.com/github/darlianecunha/DataMininginreports/blob/main/Data_Mining_in_reports.ipynb\" target=\"_parent\"><img src=\"https://colab.research.google.com/assets/colab-badge.svg\" alt=\"Open In Colab\"/></a>"
      ]
    },
    {
      "cell_type": "markdown",
      "source": [],
      "metadata": {
        "id": "oZQgLZufIdfa"
      }
    },
    {
      "cell_type": "code",
      "source": [
        "from google.colab import drive\n",
        "drive.mount('/content/drive')"
      ],
      "metadata": {
        "colab": {
          "base_uri": "https://localhost:8080/"
        },
        "id": "urKfgfhUhxrV",
        "outputId": "e99bee08-8a92-4eda-87e1-81ac9af3da18"
      },
      "execution_count": null,
      "outputs": [
        {
          "output_type": "stream",
          "name": "stdout",
          "text": [
            "Drive already mounted at /content/drive; to attempt to forcibly remount, call drive.mount(\"/content/drive\", force_remount=True).\n"
          ]
        }
      ]
    },
    {
      "cell_type": "code",
      "source": [
        "!pip install PyMuPDF\n",
        "import fitz"
      ],
      "metadata": {
        "colab": {
          "base_uri": "https://localhost:8080/"
        },
        "id": "8DDuE3ITVbhr",
        "outputId": "f9b99ae6-5856-4d41-b770-4a639d78c0be"
      },
      "execution_count": null,
      "outputs": [
        {
          "output_type": "stream",
          "name": "stdout",
          "text": [
            "Requirement already satisfied: PyMuPDF in /usr/local/lib/python3.10/dist-packages (1.22.5)\n"
          ]
        }
      ]
    },
    {
      "cell_type": "code",
      "source": [
        "import re\n",
        "import fitz\n",
        "\n",
        "# Abra o arquivo PDF em modo leitura binária\n",
        "with open ('/content/drive/MyDrive/Relatórios Atualizados/SANTOS2021.pdf', 'rb') as pdf_file:\n",
        "    # Crie um objeto Document com o conteúdo do PDF\n",
        "    pdf_doc = fitz.open('pdf', pdf_file.read())\n",
        "\n",
        "    # Variáveis para contar a quantidade de vezes que as palavras aparecem\n",
        "    word_counts = {}\n",
        "    paragraph_counts = {}\n",
        "    palavras = ['objetivos de desenvolvimento sustentável','ODS', 'pacto global','Green port iniciative','World Ports Sustentability Program','Global Reporting Initiative', 'GRI','Sustainability Accounting Standards Board','ECOPORTS','ISO 14001','ISO 45001','ISO 26000','ISO 27001', 'ISO 50001'] # Inclua suas palavras aqui\n",
        "\n",
        "    # Para cada página no PDF\n",
        "    for page in pdf_doc:\n",
        "        # Obtenha o texto da página\n",
        "        text = page.get_text(\"text\")\n",
        "\n",
        "        # Divida o texto em parágrafos\n",
        "        paragraphs = text.split('\\n')\n",
        "\n",
        "        # Para cada palavra que estamos procurando\n",
        "        for palavra in palavras:\n",
        "            # Se a palavra não foi encontrada ainda, inicialize os contadores\n",
        "            if palavra not in word_counts:\n",
        "                word_counts[palavra] = 0\n",
        "                paragraph_counts[palavra] = 0\n",
        "\n",
        "            # Crie uma expressão regular com a palavra, ignorando maiúsculas/minúsculas\n",
        "            palavra_regex = re.compile(r'\\b' + re.escape(palavra) + r'\\b', re.IGNORECASE)\n",
        "\n",
        "            # Para cada parágrafo no texto\n",
        "            for paragraph in paragraphs:\n",
        "                # Verifique se a palavra está presente no parágrafo\n",
        "                if palavra_regex.search(paragraph):\n",
        "                    # Se estiver presente, adicione 1 ao contador de parágrafos\n",
        "                    paragraph_counts[palavra] += 1\n",
        "                    # Imprima o conteúdo do parágrafo\n",
        "                    print(paragraph)\n",
        "\n",
        "            # Conte quantas vezes a palavra aparece no texto e adicione ao contador\n",
        "            word_counts[palavra] += len(palavra_regex.findall(text))\n",
        "\n",
        "# Imprima os resultados\n",
        "for palavra in palavras:\n",
        "    print('A palavra', palavra, 'aparece', word_counts[palavra], 'vezes no arquivo PDF.')\n"
      ],
      "metadata": {
        "colab": {
          "base_uri": "https://localhost:8080/"
        },
        "id": "HG2j5wymRakv",
        "outputId": "41fafae5-3e95-4232-a0ec-ec130708d673"
      },
      "execution_count": null,
      "outputs": [
        {
          "output_type": "stream",
          "name": "stdout",
          "text": [
            "anticorrupção, com foco nos Objetivos de Desenvolvimento Sustentável.\n",
            "A partir de 2021, a SPA passou a integrar o Pacto Global da ONU, \n",
            "GRI 102-14\n",
            "10.CONTEÚDOS GRI\n",
            "Também nos orgulhamos de ter ingressado no Pacto Global da ONU, uma \n",
            "10.CONTEÚDOS GRI\n",
            "SPA, elaborado segundo a metodologia da Global Report Initiative (GRI). \n",
            "10.CONTEÚDOS GRI\n",
            "10.CONTEÚDOS GRI\n",
            "10.CONTEÚDOS GRI\n",
            "10.CONTEÚDOS GRI\n",
            "• Empresa signatária do Pacto Global da ONU\n",
            "10.CONTEÚDOS GRI\n",
            "10.CONTEÚDOS GRI\n",
            "10.CONTEÚDOS GRI\n",
            "ODS/ONU e inseriu aspectos \n",
            "de Desenvolvimento Sustentável (ODS) aplicáveis à \n",
            "GRI 102-12, 102-13\n",
            "10.CONTEÚDOS GRI\n",
            "Dez Princípios do Pacto Global da ONU.\n",
            "10.CONTEÚDOS GRI\n",
            "10.CONTEÚDOS GRI\n",
            "10.CONTEÚDOS GRI\n",
            "GRI 102-4\n",
            "10.CONTEÚDOS GRI\n",
            "10.CONTEÚDOS GRI\n",
            "GRI 102-6, 203-2\n",
            "10.CONTEÚDOS GRI\n",
            "GRI 102-1, 102-2, 102-5, 102-9, 102-16\n",
            "10.CONTEÚDOS GRI\n",
            "10.CONTEÚDOS GRI\n",
            "GRI 203-1\n",
            "10.CONTEÚDOS GRI\n",
            "10.CONTEÚDOS GRI\n",
            "10.CONTEÚDOS GRI\n",
            "GRI 413-1\n",
            "10.CONTEÚDOS GRI\n",
            "GRI 413-1\n",
            "10.CONTEÚDOS GRI\n",
            "GRI 413-1\n",
            "10.CONTEÚDOS GRI\n",
            "GRI 102-17\n",
            "10.CONTEÚDOS GRI\n",
            "GRI 102-16, 205-1\n",
            "10.CONTEÚDOS GRI\n",
            "GRI 205-1\n",
            "10.CONTEÚDOS GRI\n",
            "10.CONTEÚDOS GRI\n",
            "GRI 102-18\n",
            "10.CONTEÚDOS GRI\n",
            "GRI 102-15, 102-20, 102-30, 103-1, 103-2, 103-3\n",
            "10.CONTEÚDOS GRI\n",
            "GRI 102-7, 102-45, 201-1\n",
            "10.CONTEÚDOS GRI\n",
            "GRI 102-7, 102-8, 102-41\n",
            "10.CONTEÚDOS GRI\n",
            "10.CONTEÚDOS GRI\n",
            "10.CONTEÚDOS GRI\n",
            "10.CONTEÚDOS GRI\n",
            "10.CONTEÚDOS GRI\n",
            "GRI 403-1, 403-2, 403-3, 403-4, 403-5, 403-9\n",
            "10.CONTEÚDOS GRI\n",
            "10.CONTEÚDOS GRI\n",
            "GRI 403-6, 403-7\n",
            "10.CONTEÚDOS GRI\n",
            "10.CONTEÚDOS GRI\n",
            "10.CONTEÚDOS GRI\n",
            "10.CONTEÚDOS GRI\n",
            "10.CONTEÚDOS GRI\n",
            "10.CONTEÚDOS GRI\n",
            "10.CONTEÚDOS GRI\n",
            "10.CONTEÚDOS GRI\n",
            "GRI 303-1, 303-2\n",
            "GRI 303-3, 303-4\n",
            "10.CONTEÚDOS GRI\n",
            "GRI 303-5\n",
            "GRI 305-1\n",
            "10.CONTEÚDOS GRI\n",
            "10.CONTEÚDOS GRI\n",
            "10.CONTEÚDOS GRI\n",
            "GRI 305-1 \n",
            "10.CONTEÚDOS GRI\n",
            "GRI 306-2\n",
            "10.CONTEÚDOS GRI\n",
            "GRI 306-3\n",
            "10.CONTEÚDOS GRI\n",
            "GRI 304-1, 304-2, 304-3\n",
            "10.CONTEÚDOS GRI\n",
            "GRI 102-11, 307-1\n",
            "10.CONTEÚDOS GRI\n",
            "10.CONTEÚDOS GRI\n",
            "GRI 101, 102-46, 102-48, 102-50, 102-51, 102-52, 102-54\n",
            "GRI – opção Essencial – e contempla \n",
            "10.CONTEÚDOS GRI\n",
            "Gerais (GRI 101) e está dividido no seguinte \n",
            "Sumário de Conteúdos GRI.\n",
            "GRI 102-40, 102-42, 102-43, 102-44\n",
            "10.CONTEÚDOS GRI\n",
            "ODS\n",
            "ODS\n",
            "GRI 102-46, 102-47, 102-49, 103-1, 103-2, 103-3\n",
            "Desempenho Econômico (GRI 201)\n",
            "Desempenho Econômico (GRI 201)\n",
            "Impactos econômicos indiretos (GRI 203)\n",
            "Impactos econômicos indiretos (GRI 203)\n",
            "Combate à Corrupção (GRI 205) \n",
            "Combate à Corrupção (GRI 205) \n",
            "Água e efluentes (GRI 303)\n",
            "Água e efluentes (GRI 303)\n",
            "Biodiversidade (GRI 304)\n",
            "Biodiversidade (GRI 304)\n",
            "Emissões e Qualidade do Ar (GRI 305)\n",
            "Emissões e Qualidade do Ar (GRI 305)\n",
            "Resíduos (GRI 306)\n",
            "Resíduos (GRI 306)\n",
            "Conformidade Ambiental (GRI 307)\n",
            "Conformidade Ambiental (GRI 307)\n",
            "Emprego (GRI 401)\n",
            "Emprego (GRI 401)\n",
            "Saúde e Segurança do Trabalho (GRI 403)\n",
            "Saúde e Segurança do Trabalho (GRI 403)\n",
            "Comunidades locais (GRI 413)\n",
            "Comunidades locais (GRI 413)\n",
            "10.CONTEÚDOS GRI\n",
            "European Sea Ports (ESPO) – EcoPorts\n",
            "10.CONTEÚDOS GRI\n",
            "CONTEÚDOS GRI\n",
            "GRI 102-55\n",
            "10.CONTEÚDOS GRI\n",
            "GRI 102: Conteúdos Gerais\n",
            "10.CONTEÚDOS GRI\n",
            "102-54: Declarações de relato em conformidade com as Normas GRI\n",
            "102-55: Sumário de conteúdo da GRI\n",
            "10.CONTEÚDOS GRI\n",
            "10.CONTEÚDOS GRI\n",
            "Consultoria GRI\n",
            "A palavra objetivos de desenvolvimento sustentável aparece 1 vezes no arquivo PDF.\n",
            "A palavra ODS aparece 4 vezes no arquivo PDF.\n",
            "A palavra pacto global aparece 4 vezes no arquivo PDF.\n",
            "A palavra Green port iniciative aparece 0 vezes no arquivo PDF.\n",
            "A palavra World Ports Sustentability Program aparece 0 vezes no arquivo PDF.\n",
            "A palavra Global Reporting Initiative aparece 0 vezes no arquivo PDF.\n",
            "A palavra GRI aparece 126 vezes no arquivo PDF.\n",
            "A palavra Sustainability Accounting Standards Board aparece 0 vezes no arquivo PDF.\n",
            "A palavra ECOPORTS aparece 1 vezes no arquivo PDF.\n",
            "A palavra ISO 14001 aparece 0 vezes no arquivo PDF.\n",
            "A palavra ISO 45001 aparece 0 vezes no arquivo PDF.\n",
            "A palavra ISO 26000 aparece 0 vezes no arquivo PDF.\n",
            "A palavra ISO 27001 aparece 0 vezes no arquivo PDF.\n",
            "A palavra ISO 50001 aparece 0 vezes no arquivo PDF.\n"
          ]
        }
      ]
    },
    {
      "cell_type": "code",
      "source": [],
      "metadata": {
        "id": "IL4DMwagA1hS"
      },
      "execution_count": null,
      "outputs": []
    },
    {
      "cell_type": "code",
      "source": [
        "import fitz  # Importa a biblioteca PyMuPDF (MuPDF)\n",
        "\n",
        "import re\n",
        "from collections import Counter\n",
        "\n",
        "# Função para extrair texto de um arquivo PDF\n",
        "def extract_text_from_pdf(pdf_file):\n",
        "    pdf_document = fitz.open(pdf_file)\n",
        "    text = \"\"\n",
        "    for page_num in range(pdf_document.page_count):\n",
        "        page = pdf_document.load_page(page_num)\n",
        "        text += page.get_text()\n",
        "    pdf_document.close()\n",
        "    return text\n",
        "\n",
        "# Filtra palavras relevantes (pode ser personalizado de acordo com suas necessidades)\n",
        "def filter_words(text):\n",
        "    words = re.findall(r'\\b\\w+\\b', text.lower())\n",
        "    # Pode adicionar mais palavras comuns para filtrar, se necessário\n",
        "    stop_words = set(['a', 'de', 'da', 'o', 'para', 'e', 'do', 'em', 'com', '2021', 'dos', 'das','que','por', 'as','os', 'no', 'na'])\n",
        "    return [word for word in words if word not in stop_words]\n",
        "\n",
        "# Conta as principais palavras no texto\n",
        "def count_top_words(text, top_n=10):\n",
        "    word_list = filter_words(text)\n",
        "    word_counts = Counter(word_list)\n",
        "    return word_counts.most_common(top_n)\n",
        "\n",
        "# Caminho do arquivo PDF no Google Drive\n",
        "pdf_file_path = '/content/drive/MyDrive/Relatórios Atualizados/SANTOS2021.pdf'\n",
        "\n",
        "# Lê o conteúdo do arquivo PDF\n",
        "pdf_text = extract_text_from_pdf(pdf_file_path)\n",
        "\n",
        "# Conta e exibe as principais palavras\n",
        "top_words = count_top_words(pdf_text)\n",
        "print(\"Top 20 palavras mais comuns:\")\n",
        "print(top_words)\n"
      ],
      "metadata": {
        "colab": {
          "base_uri": "https://localhost:8080/"
        },
        "id": "5NwEudDy2fHJ",
        "outputId": "443b2fc5-02d5-4508-e549-6fc76ddd46b4"
      },
      "execution_count": null,
      "outputs": [
        {
          "output_type": "stream",
          "name": "stdout",
          "text": [
            "Top 20 palavras mais comuns:\n",
            "[('spa', 250), ('porto', 188), ('sustentabilidade', 154), ('relatório', 145), ('1', 137), ('gri', 126), ('santos', 125), ('gestão', 120), ('2', 116), ('5', 104)]\n"
          ]
        }
      ]
    }
  ]
}